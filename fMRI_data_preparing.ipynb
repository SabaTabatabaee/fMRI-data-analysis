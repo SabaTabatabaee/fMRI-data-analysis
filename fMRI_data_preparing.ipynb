{
 "cells": [
  {
   "cell_type": "markdown",
   "id": "c0d11b03-b736-4d0f-bcd2-419ffc064aed",
   "metadata": {},
   "source": [
    "# Postprocessing the data"
   ]
  },
  {
   "cell_type": "markdown",
   "id": "1c0b37bc-1a6b-426b-8dfe-cb7e11b2e2d3",
   "metadata": {},
   "source": [
    "# Censor Mask"
   ]
  },
  {
   "cell_type": "code",
   "execution_count": 1,
   "id": "5bcb51ff-be1b-479f-bea3-11e4f449a2f4",
   "metadata": {},
   "outputs": [],
   "source": [
    "from glob import glob\n",
    "from os.path import join as pjoin\n",
    "import numpy as np\n",
    "import pandas as pd\n",
    "import re\n",
    "import pickle\n",
    "from tqdm import tqdm\n",
    "roi_lookup=np.load('/Users/sabatb/Documents/morerois/roi_lookup.npy', allow_pickle=True).item()"
   ]
  },
  {
   "cell_type": "code",
   "execution_count": 8,
   "id": "f1b09761-894d-4145-a26d-7b971adb04b9",
   "metadata": {},
   "outputs": [
    {
     "name": "stdout",
     "output_type": "stream",
     "text": [
      "6288\n"
     ]
    }
   ],
   "source": [
    "from nilearn.image import load_img, new_img_like\n",
    "import numpy as np\n",
    "atlas= load_img('/Users/sabatb/Documents/morerois/extras/Symmetric_N162_space-indiv3d_brain.nii.gz')\n",
    "da = np.array(atlas.dataobj)\n",
    "print(np.max(da))"
   ]
  },
  {
   "cell_type": "code",
   "execution_count": 9,
   "id": "d1006ec5-6644-4af1-98bb-3eabaa551b83",
   "metadata": {},
   "outputs": [],
   "source": [
    "#proj_path = '/Users/sabatb/Documents/new version data'\n",
    "#fmri_path='/Users/sabatb/Documents/new version data/bold-2/rabies-hp'\n",
    "#ca_path = pjoin(proj_path,'ca2')\n",
    "bold_path = '/Users/sabatb/Documents/morerois/rabies-hp-2/'\n",
    "#pkl_path = pjoin(proj_path,'pkl')\n",
    "#ca_files = sorted(glob(pjoin(ca_path,'*.npy')))\n",
    "bold_files = sorted(glob(pjoin(bold_path,'*rabies*.npy')))\n",
    "censor_path='/Users/sabatb/Documents/morerois/censor/'\n",
    "censor_files=sorted(glob(pjoin(censor_path,'*.csv')))"
   ]
  },
  {
   "cell_type": "code",
   "execution_count": 10,
   "id": "de9e8b8a-4714-4449-971f-1c3036c3f43e",
   "metadata": {},
   "outputs": [
    {
     "name": "stderr",
     "output_type": "stream",
     "text": [
      "100%|██████████| 185/185 [00:00<00:00, 1383.49it/s]\n"
     ]
    }
   ],
   "source": [
    "df_cols = ['sub','ses','run','task','censor']\n",
    "df_data = {col:[] for col in df_cols}\n",
    "for fname in tqdm(censor_files[:]):\n",
    "    censor = pd.read_csv(fname) # time X rois\n",
    "    # timeseries = interp_nan(timeseries)\n",
    "    sub = re.compile('sub-SLC[0-9]*').findall(fname)[0]\n",
    "    ses = re.compile('ses-[0-9]*').findall(fname)[0]\n",
    "    run = re.compile('run-[0-9]*').findall(fname)[0]\n",
    "    task = re.compile('task-[a-z]*').findall(fname)[0]\n",
    "    # TODO: need to handle NaN values, zscore timeseries etc.\n",
    "    for col in df_cols:\n",
    "        df_data[col].append(eval(col))\n",
    "\n",
    "censor_df = pd.DataFrame(df_data)"
   ]
  },
  {
   "cell_type": "code",
   "execution_count": 11,
   "id": "23f1f2b9-ca96-4823-94b8-b930d2817e30",
   "metadata": {},
   "outputs": [
    {
     "name": "stdout",
     "output_type": "stream",
     "text": [
      "Total bold led data runs : 74\n"
     ]
    }
   ],
   "source": [
    "censor_led_df = censor_df[censor_df['task']=='task-led'].reset_index()\n",
    "print(f'Total bold led data runs : {censor_led_df.shape[0]}')"
   ]
  },
  {
   "cell_type": "code",
   "execution_count": 12,
   "id": "fba247c4-05f1-4fd8-9ac2-ecdf1f96e6bd",
   "metadata": {},
   "outputs": [
    {
     "data": {
      "text/html": [
       "<div>\n",
       "<style scoped>\n",
       "    .dataframe tbody tr th:only-of-type {\n",
       "        vertical-align: middle;\n",
       "    }\n",
       "\n",
       "    .dataframe tbody tr th {\n",
       "        vertical-align: top;\n",
       "    }\n",
       "\n",
       "    .dataframe thead th {\n",
       "        text-align: right;\n",
       "    }\n",
       "</style>\n",
       "<table border=\"1\" class=\"dataframe\">\n",
       "  <thead>\n",
       "    <tr style=\"text-align: right;\">\n",
       "      <th></th>\n",
       "      <th>index</th>\n",
       "      <th>sub</th>\n",
       "      <th>ses</th>\n",
       "      <th>run</th>\n",
       "      <th>task</th>\n",
       "      <th>censor</th>\n",
       "    </tr>\n",
       "  </thead>\n",
       "  <tbody>\n",
       "    <tr>\n",
       "      <th>0</th>\n",
       "      <td>0</td>\n",
       "      <td>sub-SLC01</td>\n",
       "      <td>ses-1</td>\n",
       "      <td>run-2</td>\n",
       "      <td>task-led</td>\n",
       "      <td>False = Masked Frames\n",
       "0                  ...</td>\n",
       "    </tr>\n",
       "    <tr>\n",
       "      <th>1</th>\n",
       "      <td>1</td>\n",
       "      <td>sub-SLC01</td>\n",
       "      <td>ses-1</td>\n",
       "      <td>run-6</td>\n",
       "      <td>task-led</td>\n",
       "      <td>False = Masked Frames\n",
       "0                  ...</td>\n",
       "    </tr>\n",
       "    <tr>\n",
       "      <th>2</th>\n",
       "      <td>6</td>\n",
       "      <td>sub-SLC01</td>\n",
       "      <td>ses-2</td>\n",
       "      <td>run-2</td>\n",
       "      <td>task-led</td>\n",
       "      <td>False = Masked Frames\n",
       "0                  ...</td>\n",
       "    </tr>\n",
       "    <tr>\n",
       "      <th>3</th>\n",
       "      <td>7</td>\n",
       "      <td>sub-SLC01</td>\n",
       "      <td>ses-2</td>\n",
       "      <td>run-4</td>\n",
       "      <td>task-led</td>\n",
       "      <td>False = Masked Frames\n",
       "0                  ...</td>\n",
       "    </tr>\n",
       "    <tr>\n",
       "      <th>4</th>\n",
       "      <td>8</td>\n",
       "      <td>sub-SLC01</td>\n",
       "      <td>ses-2</td>\n",
       "      <td>run-6</td>\n",
       "      <td>task-led</td>\n",
       "      <td>False = Masked Frames\n",
       "0                  ...</td>\n",
       "    </tr>\n",
       "  </tbody>\n",
       "</table>\n",
       "</div>"
      ],
      "text/plain": [
       "   index        sub    ses    run      task  \\\n",
       "0      0  sub-SLC01  ses-1  run-2  task-led   \n",
       "1      1  sub-SLC01  ses-1  run-6  task-led   \n",
       "2      6  sub-SLC01  ses-2  run-2  task-led   \n",
       "3      7  sub-SLC01  ses-2  run-4  task-led   \n",
       "4      8  sub-SLC01  ses-2  run-6  task-led   \n",
       "\n",
       "                                              censor  \n",
       "0       False = Masked Frames\n",
       "0                  ...  \n",
       "1       False = Masked Frames\n",
       "0                  ...  \n",
       "2       False = Masked Frames\n",
       "0                  ...  \n",
       "3       False = Masked Frames\n",
       "0                  ...  \n",
       "4       False = Masked Frames\n",
       "0                  ...  "
      ]
     },
     "execution_count": 12,
     "metadata": {},
     "output_type": "execute_result"
    }
   ],
   "source": [
    "df_censor=censor_led_df\n",
    "df_censor.head()"
   ]
  },
  {
   "cell_type": "code",
   "execution_count": 31,
   "id": "5e9d1ca5-c307-4c08-b1b4-0f561bd60b21",
   "metadata": {},
   "outputs": [],
   "source": [
    "b=[]\n",
    "for i in range (len(df_censor)):\n",
    "    if  df_censor['sub'][i]=='sub-SLC10':\n",
    "        m=0\n",
    "        for i_censor in df_censor['censor'][i].index:\n",
    "            dfm=df_censor['censor'][i].iloc[i_censor]\n",
    "            dfm=dfm.to_string(index=False)\n",
    "            if dfm == \"True\":\n",
    "                b.append(1)\n",
    "            if dfm == \"False\":\n",
    "                b.append(0)\n",
    "        "
   ]
  },
  {
   "cell_type": "code",
   "execution_count": 32,
   "id": "467873be-9fff-485c-bf9b-2659babeada0",
   "metadata": {},
   "outputs": [
    {
     "name": "stdout",
     "output_type": "stream",
     "text": [
      "(5400, 1)\n"
     ]
    }
   ],
   "source": [
    "censor_labels=np.array(b)\n",
    "censor_labels=np.expand_dims(censor_labels, axis=0)\n",
    "censor_labels=censor_labels.reshape(-1, 1)\n",
    "print(censor_labels.shape)\n",
    "np.savetxt(\"/Users/sabatb/Desktop/newdata/subj10/censor_labels_subj10.1D\",censor_labels,fmt='%.3f', delimiter='\\t')"
   ]
  },
  {
   "cell_type": "markdown",
   "id": "1ac123de-a9e3-4886-92f8-9795c98a9fe6",
   "metadata": {},
   "source": [
    "# data"
   ]
  },
  {
   "cell_type": "markdown",
   "id": "c9704e76-3aa4-4e21-965a-b2f06c80be98",
   "metadata": {},
   "source": [
    "#adding 0 to removed ROIs"
   ]
  },
  {
   "cell_type": "code",
   "execution_count": 40,
   "id": "dd9a708a-2c7a-45d2-a683-160c42713198",
   "metadata": {},
   "outputs": [
    {
     "data": {
      "text/plain": [
       "-1"
      ]
     },
     "execution_count": 40,
     "metadata": {},
     "output_type": "execute_result"
    }
   ],
   "source": [
    "removed_roi=[]\n",
    "for i in range (6288):\n",
    "    if i not in roi_lookup['bold'].values():\n",
    "        removed_roi.append(i-1)\n",
    "removed_roi.pop(0)"
   ]
  },
  {
   "cell_type": "code",
   "execution_count": 41,
   "id": "8607b411-85cc-4cb1-962d-c39434492f46",
   "metadata": {},
   "outputs": [
    {
     "name": "stdout",
     "output_type": "stream",
     "text": [
      "[470, 472, 507, 508, 510, 511, 522, 570, 572, 714, 796, 846, 931, 984, 990, 991, 994, 995, 997, 999, 1002, 1006, 1007, 1010, 1013, 1014, 1017, 1021, 1025, 1028, 1029, 1033, 1034, 1036, 1037, 1040, 1041, 1044, 1045, 1048, 1052, 1054, 1058, 1062, 1065, 1066, 1068, 1082, 1084, 1095, 1096, 1098, 1099, 1104, 1112, 1117, 1119, 1128, 1142, 1147, 1154, 1178, 1204, 1226, 1232, 1239, 1256, 1262, 1281, 1288, 1304, 1328, 1352, 1355, 1356, 1363, 1373, 1378, 1388, 1394, 1395, 1397, 1402, 1410, 1413, 1414, 1417, 1430, 1433, 1443, 1444, 1450, 1458, 1462, 1464, 1466, 1467, 1468, 1470, 1472, 1473, 1476, 1478, 1480, 1483, 1485, 1486, 1488, 1489, 1493, 1494, 1495, 1496, 1499, 1500, 1501, 1502, 1503, 1504, 1505, 1506, 1507, 1511, 1512, 1514, 1517, 1518, 1524, 1525, 1526, 1527, 1529, 1531, 1532, 1534, 1535, 2006, 2008, 2043, 2044, 2046, 2047, 2058, 2106, 2108, 2467, 2520, 2526, 2527, 2530, 2531, 2538, 2542, 2543, 2546, 2549, 2550, 2553, 2557, 2561, 2564, 2565, 2569, 2570, 2572, 2573, 2576, 2577, 2580, 2581, 2584, 2588, 2590, 2594, 2598, 2601, 2602, 2604, 2618, 2620, 2631, 2632, 2634, 2635, 2640, 2648, 2653, 2655, 2664, 2678, 2683, 2690, 2714, 2740, 2762, 2768, 2775, 2792, 2798, 2817, 2824, 2840, 2864, 2888, 2891, 2892, 2899, 2909, 2914, 2924, 2930, 2931, 2933, 2938, 2946, 2949, 2950, 2953, 2966, 2969, 2979, 2980, 2986, 2994, 2998, 3000, 3002, 3003, 3004, 3006, 3008, 3009, 3012, 3014, 3016, 3019, 3021, 3022, 3024, 3025, 3029, 3030, 3031, 3032, 3035, 3036, 3037, 3038, 3039, 3040, 3041, 3042, 3043, 3047, 3048, 3050, 3053, 3054, 3060, 3061, 3062, 3063, 3065, 3067, 3068, 3070, 3071, 5322, 5404, 5454, 5605]\n"
     ]
    }
   ],
   "source": [
    "print((removed_roi))"
   ]
  },
  {
   "cell_type": "markdown",
   "id": "d23d8d23-aabe-4efd-babf-c12caef3e819",
   "metadata": {},
   "source": [
    "#concatinate"
   ]
  },
  {
   "cell_type": "code",
   "execution_count": 42,
   "id": "cb7f2e88-6e90-43ac-91a9-63f3ad485a1c",
   "metadata": {},
   "outputs": [
    {
     "name": "stderr",
     "output_type": "stream",
     "text": [
      "100%|██████████| 184/184 [00:02<00:00, 86.55it/s] \n"
     ]
    }
   ],
   "source": [
    "df_cols = ['sub','ses','run','task','timeseries']\n",
    "df_data = {col:[] for col in df_cols}\n",
    "for fname in tqdm(bold_files[:]):\n",
    "    timeseries = np.load(fname) # time X rois\n",
    "    # timeseries = interp_nan(timeseries)\n",
    "    sub = re.compile('sub-SLC[0-9]*').findall(fname)[0]\n",
    "    ses = re.compile('ses-[0-9]*').findall(fname)[0]\n",
    "    run = re.compile('run-[0-9]*').findall(fname)[0]\n",
    "    task = re.compile('task-[a-z]*').findall(fname)[0]\n",
    "    # TODO: need to handle NaN values, zscore timeseries etc.\n",
    "    for col in df_cols:\n",
    "        df_data[col].append(eval(col))\n",
    "\n",
    "bold_df = pd.DataFrame(df_data)"
   ]
  },
  {
   "cell_type": "code",
   "execution_count": 43,
   "id": "b76bc0dc-e225-40d2-80ea-d4acce5d08b4",
   "metadata": {},
   "outputs": [
    {
     "name": "stdout",
     "output_type": "stream",
     "text": [
      "Total bold led data runs : 74\n"
     ]
    }
   ],
   "source": [
    "bold_led_df = bold_df[bold_df['task']=='task-led'].reset_index()\n",
    "print(f'Total bold led data runs : {bold_led_df.shape[0]}')"
   ]
  },
  {
   "cell_type": "code",
   "execution_count": 44,
   "id": "5473c934-8031-423c-84c3-465c6e966e11",
   "metadata": {},
   "outputs": [
    {
     "data": {
      "text/html": [
       "<div>\n",
       "<style scoped>\n",
       "    .dataframe tbody tr th:only-of-type {\n",
       "        vertical-align: middle;\n",
       "    }\n",
       "\n",
       "    .dataframe tbody tr th {\n",
       "        vertical-align: top;\n",
       "    }\n",
       "\n",
       "    .dataframe thead th {\n",
       "        text-align: right;\n",
       "    }\n",
       "</style>\n",
       "<table border=\"1\" class=\"dataframe\">\n",
       "  <thead>\n",
       "    <tr style=\"text-align: right;\">\n",
       "      <th></th>\n",
       "      <th>index</th>\n",
       "      <th>sub</th>\n",
       "      <th>ses</th>\n",
       "      <th>run</th>\n",
       "      <th>task</th>\n",
       "      <th>timeseries</th>\n",
       "    </tr>\n",
       "  </thead>\n",
       "  <tbody>\n",
       "    <tr>\n",
       "      <th>0</th>\n",
       "      <td>1</td>\n",
       "      <td>sub-SLC01</td>\n",
       "      <td>ses-1</td>\n",
       "      <td>run-2</td>\n",
       "      <td>task-led</td>\n",
       "      <td>[[42.04031753540039, -85.56024932861328, 60.78...</td>\n",
       "    </tr>\n",
       "    <tr>\n",
       "      <th>1</th>\n",
       "      <td>4</td>\n",
       "      <td>sub-SLC01</td>\n",
       "      <td>ses-1</td>\n",
       "      <td>run-6</td>\n",
       "      <td>task-led</td>\n",
       "      <td>[[-15.675268173217773, -46.53158950805664, 183...</td>\n",
       "    </tr>\n",
       "    <tr>\n",
       "      <th>2</th>\n",
       "      <td>7</td>\n",
       "      <td>sub-SLC01</td>\n",
       "      <td>ses-2</td>\n",
       "      <td>run-2</td>\n",
       "      <td>task-led</td>\n",
       "      <td>[[74.88526153564453, -42.07335662841797, 99.81...</td>\n",
       "    </tr>\n",
       "    <tr>\n",
       "      <th>3</th>\n",
       "      <td>9</td>\n",
       "      <td>sub-SLC01</td>\n",
       "      <td>ses-2</td>\n",
       "      <td>run-4</td>\n",
       "      <td>task-led</td>\n",
       "      <td>[[202.51380920410156, 51.093231201171875, -20....</td>\n",
       "    </tr>\n",
       "    <tr>\n",
       "      <th>4</th>\n",
       "      <td>11</td>\n",
       "      <td>sub-SLC01</td>\n",
       "      <td>ses-2</td>\n",
       "      <td>run-6</td>\n",
       "      <td>task-led</td>\n",
       "      <td>[[-9.184001922607422, 1.413281798362732, -71.1...</td>\n",
       "    </tr>\n",
       "  </tbody>\n",
       "</table>\n",
       "</div>"
      ],
      "text/plain": [
       "   index        sub    ses    run      task  \\\n",
       "0      1  sub-SLC01  ses-1  run-2  task-led   \n",
       "1      4  sub-SLC01  ses-1  run-6  task-led   \n",
       "2      7  sub-SLC01  ses-2  run-2  task-led   \n",
       "3      9  sub-SLC01  ses-2  run-4  task-led   \n",
       "4     11  sub-SLC01  ses-2  run-6  task-led   \n",
       "\n",
       "                                          timeseries  \n",
       "0  [[42.04031753540039, -85.56024932861328, 60.78...  \n",
       "1  [[-15.675268173217773, -46.53158950805664, 183...  \n",
       "2  [[74.88526153564453, -42.07335662841797, 99.81...  \n",
       "3  [[202.51380920410156, 51.093231201171875, -20....  \n",
       "4  [[-9.184001922607422, 1.413281798362732, -71.1...  "
      ]
     },
     "execution_count": 44,
     "metadata": {},
     "output_type": "execute_result"
    }
   ],
   "source": [
    "df=bold_led_df\n",
    "df.head()"
   ]
  },
  {
   "cell_type": "code",
   "execution_count": 46,
   "id": "16f8f22d-410e-4719-80a4-f9974cea83b8",
   "metadata": {},
   "outputs": [
    {
     "name": "stdout",
     "output_type": "stream",
     "text": [
      "(6017, 372)\n"
     ]
    }
   ],
   "source": [
    "print(df['timeseries'][0].shape)"
   ]
  },
  {
   "cell_type": "code",
   "execution_count": 48,
   "id": "8957c307-a90f-437a-82c7-dd9034db9d4d",
   "metadata": {},
   "outputs": [
    {
     "name": "stderr",
     "output_type": "stream",
     "text": [
      "/var/folders/ts/pxmrjx2561j3jjvs7c2bt6440000gp/T/ipykernel_62481/4191615050.py:9: SettingWithCopyWarning: \n",
      "A value is trying to be set on a copy of a slice from a DataFrame\n",
      "\n",
      "See the caveats in the documentation: https://pandas.pydata.org/pandas-docs/stable/user_guide/indexing.html#returning-a-view-versus-a-copy\n",
      "  df['newdata'][i]=new_data\n"
     ]
    }
   ],
   "source": [
    "\n",
    "df['newdata'] = ''\n",
    "for i in range (len(df['timeseries'])):\n",
    "    m=0\n",
    "    new_data=np.zeros((6288,df['timeseries'][i].shape[1]))\n",
    "    for k in range (6288):\n",
    "        if k not in removed_roi:\n",
    "            new_data[k,:]=df['timeseries'][i][m,:]\n",
    "            m=m+1\n",
    "    df['newdata'][i]=new_data \n"
   ]
  },
  {
   "cell_type": "code",
   "execution_count": 49,
   "id": "eec4eed1-2890-4f8a-ad36-ec639a3eb13e",
   "metadata": {},
   "outputs": [
    {
     "name": "stderr",
     "output_type": "stream",
     "text": [
      "/var/folders/ts/pxmrjx2561j3jjvs7c2bt6440000gp/T/ipykernel_62481/4061369249.py:17: SettingWithCopyWarning: \n",
      "A value is trying to be set on a copy of a slice from a DataFrame\n",
      "\n",
      "See the caveats in the documentation: https://pandas.pydata.org/pandas-docs/stable/user_guide/indexing.html#returning-a-view-versus-a-copy\n",
      "  df['likeraw'][i] =np.nan_to_num(lk_raw)\n"
     ]
    }
   ],
   "source": [
    "df['likeraw'] = ''\n",
    "for i in range (len(df_censor)):\n",
    "    b=[]\n",
    "    for i_censor in df_censor['censor'][i].index:\n",
    "        dfm=df_censor['censor'][i].iloc[i_censor]\n",
    "        dfm=dfm.to_string(index=False)\n",
    "        if dfm == \"False\":\n",
    "            b.append(i_censor)\n",
    "    lk_raw=np.zeros((6288,600))\n",
    "    m=0\n",
    "    for k in range (600):\n",
    "        if k not in b:\n",
    "            lk_raw[:,k]=df['newdata'][i][:,m]\n",
    "            m=m+1\n",
    "        \n",
    "                \n",
    "    df['likeraw'][i] =np.nan_to_num(lk_raw)\n",
    "            \n",
    "        "
   ]
  },
  {
   "cell_type": "code",
   "execution_count": 54,
   "id": "10756824-5e95-4378-a7d9-8632cfdc357a",
   "metadata": {},
   "outputs": [
    {
     "name": "stdout",
     "output_type": "stream",
     "text": [
      "(6288, 372)\n"
     ]
    }
   ],
   "source": [
    "print(df['newdata'][0].shape)"
   ]
  },
  {
   "cell_type": "code",
   "execution_count": 55,
   "id": "0d1b39a4-55c8-4e8f-bfce-63c2027109e5",
   "metadata": {},
   "outputs": [
    {
     "data": {
      "text/html": [
       "<div>\n",
       "<style scoped>\n",
       "    .dataframe tbody tr th:only-of-type {\n",
       "        vertical-align: middle;\n",
       "    }\n",
       "\n",
       "    .dataframe tbody tr th {\n",
       "        vertical-align: top;\n",
       "    }\n",
       "\n",
       "    .dataframe thead th {\n",
       "        text-align: right;\n",
       "    }\n",
       "</style>\n",
       "<table border=\"1\" class=\"dataframe\">\n",
       "  <thead>\n",
       "    <tr style=\"text-align: right;\">\n",
       "      <th></th>\n",
       "      <th>index</th>\n",
       "      <th>sub</th>\n",
       "      <th>ses</th>\n",
       "      <th>run</th>\n",
       "      <th>task</th>\n",
       "      <th>timeseries</th>\n",
       "      <th>newdata</th>\n",
       "      <th>likeraw</th>\n",
       "    </tr>\n",
       "  </thead>\n",
       "  <tbody>\n",
       "    <tr>\n",
       "      <th>0</th>\n",
       "      <td>1</td>\n",
       "      <td>sub-SLC01</td>\n",
       "      <td>ses-1</td>\n",
       "      <td>run-2</td>\n",
       "      <td>task-led</td>\n",
       "      <td>[[42.04031753540039, -85.56024932861328, 60.78...</td>\n",
       "      <td>[[42.04031753540039, -85.56024932861328, 60.78...</td>\n",
       "      <td>[[0.0, 0.0, 0.0, 0.0, 0.0, 0.0, 0.0, 0.0, 0.0,...</td>\n",
       "    </tr>\n",
       "    <tr>\n",
       "      <th>1</th>\n",
       "      <td>4</td>\n",
       "      <td>sub-SLC01</td>\n",
       "      <td>ses-1</td>\n",
       "      <td>run-6</td>\n",
       "      <td>task-led</td>\n",
       "      <td>[[-15.675268173217773, -46.53158950805664, 183...</td>\n",
       "      <td>[[-15.675268173217773, -46.53158950805664, 183...</td>\n",
       "      <td>[[0.0, 0.0, 0.0, 0.0, 0.0, 0.0, 0.0, 0.0, 0.0,...</td>\n",
       "    </tr>\n",
       "    <tr>\n",
       "      <th>2</th>\n",
       "      <td>7</td>\n",
       "      <td>sub-SLC01</td>\n",
       "      <td>ses-2</td>\n",
       "      <td>run-2</td>\n",
       "      <td>task-led</td>\n",
       "      <td>[[74.88526153564453, -42.07335662841797, 99.81...</td>\n",
       "      <td>[[74.88526153564453, -42.07335662841797, 99.81...</td>\n",
       "      <td>[[0.0, 0.0, 0.0, 0.0, 0.0, 0.0, 0.0, 0.0, 0.0,...</td>\n",
       "    </tr>\n",
       "    <tr>\n",
       "      <th>3</th>\n",
       "      <td>9</td>\n",
       "      <td>sub-SLC01</td>\n",
       "      <td>ses-2</td>\n",
       "      <td>run-4</td>\n",
       "      <td>task-led</td>\n",
       "      <td>[[202.51380920410156, 51.093231201171875, -20....</td>\n",
       "      <td>[[202.51380920410156, 51.093231201171875, -20....</td>\n",
       "      <td>[[0.0, 0.0, 0.0, 0.0, 0.0, 0.0, 0.0, 0.0, 0.0,...</td>\n",
       "    </tr>\n",
       "    <tr>\n",
       "      <th>4</th>\n",
       "      <td>11</td>\n",
       "      <td>sub-SLC01</td>\n",
       "      <td>ses-2</td>\n",
       "      <td>run-6</td>\n",
       "      <td>task-led</td>\n",
       "      <td>[[-9.184001922607422, 1.413281798362732, -71.1...</td>\n",
       "      <td>[[-9.184001922607422, 1.413281798362732, -71.1...</td>\n",
       "      <td>[[0.0, 0.0, 0.0, 0.0, 0.0, 0.0, 0.0, 0.0, 0.0,...</td>\n",
       "    </tr>\n",
       "  </tbody>\n",
       "</table>\n",
       "</div>"
      ],
      "text/plain": [
       "   index        sub    ses    run      task  \\\n",
       "0      1  sub-SLC01  ses-1  run-2  task-led   \n",
       "1      4  sub-SLC01  ses-1  run-6  task-led   \n",
       "2      7  sub-SLC01  ses-2  run-2  task-led   \n",
       "3      9  sub-SLC01  ses-2  run-4  task-led   \n",
       "4     11  sub-SLC01  ses-2  run-6  task-led   \n",
       "\n",
       "                                          timeseries  \\\n",
       "0  [[42.04031753540039, -85.56024932861328, 60.78...   \n",
       "1  [[-15.675268173217773, -46.53158950805664, 183...   \n",
       "2  [[74.88526153564453, -42.07335662841797, 99.81...   \n",
       "3  [[202.51380920410156, 51.093231201171875, -20....   \n",
       "4  [[-9.184001922607422, 1.413281798362732, -71.1...   \n",
       "\n",
       "                                             newdata  \\\n",
       "0  [[42.04031753540039, -85.56024932861328, 60.78...   \n",
       "1  [[-15.675268173217773, -46.53158950805664, 183...   \n",
       "2  [[74.88526153564453, -42.07335662841797, 99.81...   \n",
       "3  [[202.51380920410156, 51.093231201171875, -20....   \n",
       "4  [[-9.184001922607422, 1.413281798362732, -71.1...   \n",
       "\n",
       "                                             likeraw  \n",
       "0  [[0.0, 0.0, 0.0, 0.0, 0.0, 0.0, 0.0, 0.0, 0.0,...  \n",
       "1  [[0.0, 0.0, 0.0, 0.0, 0.0, 0.0, 0.0, 0.0, 0.0,...  \n",
       "2  [[0.0, 0.0, 0.0, 0.0, 0.0, 0.0, 0.0, 0.0, 0.0,...  \n",
       "3  [[0.0, 0.0, 0.0, 0.0, 0.0, 0.0, 0.0, 0.0, 0.0,...  \n",
       "4  [[0.0, 0.0, 0.0, 0.0, 0.0, 0.0, 0.0, 0.0, 0.0,...  "
      ]
     },
     "execution_count": 55,
     "metadata": {},
     "output_type": "execute_result"
    }
   ],
   "source": [
    "df.head()"
   ]
  },
  {
   "cell_type": "code",
   "execution_count": 56,
   "id": "8a2fe634-da38-47c2-aba7-055d82c3f28a",
   "metadata": {},
   "outputs": [
    {
     "data": {
      "image/png": "[encoded data removed]",
      "text/plain": [
       "<Figure size 1200x1200 with 9 Axes>"
      ]
     },
     "metadata": {},
     "output_type": "display_data"
    }
   ],
   "source": [
    "import numpy as np\n",
    "import matplotlib.pyplot as plt\n",
    "\n",
    "rows = 3  \n",
    "cols = 3 \n",
    "subject='sub-SLC07'\n",
    "fig, axes = plt.subplots(rows, cols, figsize=(12, 12))\n",
    "k = 0\n",
    "\n",
    "for mat in range(len(df['likeraw'])):\n",
    "    if df['sub'][mat]==subject:\n",
    "        matrix = df['likeraw'].iloc[mat]\n",
    "        flattened_values = matrix.flatten()\n",
    "        ax = axes[k // cols, k % cols] \n",
    "        ax.hist(flattened_values, bins=50, color='blue', alpha=0.7)\n",
    "        ax.set_xlabel('Amplitude')\n",
    "        ax.set_title(f' {df[\"sub\"][mat]}: {df[\"ses\"][mat]} {df[\"run\"][mat]}')\n",
    "    \n",
    "        k += 1\n",
    "        if k >= rows * cols:\n",
    "            break\n",
    "\n",
    "plt.tight_layout()\n",
    "plt.show()\n",
    "#sub-SLC07: ses-3 run-6     : mat=53"
   ]
  },
  {
   "cell_type": "code",
   "execution_count": 94,
   "id": "651deab6-3f20-4769-8be4-275c5f9d2b33",
   "metadata": {},
   "outputs": [],
   "source": [
    "k1=0\n",
    "for i in range (len(df['likeraw'])):\n",
    "    if df['sub'][i]=='sub-SLC10':\n",
    "        if k1==0:\n",
    "            result_1=df['likeraw'][i]\n",
    "            k1=k1+1\n",
    "        else:\n",
    "            result_1 = np.concatenate((result_1, df['likeraw'][i]), axis=1)"
   ]
  },
  {
   "cell_type": "code",
   "execution_count": 95,
   "id": "77c3b857-0200-4517-b234-d65e52f8845d",
   "metadata": {},
   "outputs": [
    {
     "name": "stdout",
     "output_type": "stream",
     "text": [
      "(6288, 5400)\n"
     ]
    }
   ],
   "source": [
    "#result_1=np.transpose(result_1)\n",
    "print(result_1.shape)"
   ]
  },
  {
   "cell_type": "code",
   "execution_count": 96,
   "id": "afac8008-d596-4c04-a403-0ffaf48af54f",
   "metadata": {},
   "outputs": [],
   "source": [
    "np.savetxt(\"/Users/sabatb/Desktop/newdata/subj10/led_concatinated_subj10.1D\",result_1,fmt='%.3f',delimiter='\\t') "
   ]
  },
  {
   "cell_type": "markdown",
   "id": "f2af6171-bbab-4246-97ec-f58b53a964c9",
   "metadata": {},
   "source": [
    "# starting times"
   ]
  },
  {
   "cell_type": "code",
   "execution_count": 115,
   "id": "c218aa6e-e9ff-4dc6-8e39-a9957e6814ce",
   "metadata": {},
   "outputs": [],
   "source": [
    "starting_times=[]\n",
    "starting_times.append(0)\n",
    "summ=0\n",
    "for i in range (len(df['likeraw'])):\n",
    "    if df['sub'][i]=='sub-SLC10':\n",
    "        summ=summ+df['likeraw'][i].shape[1]\n",
    "        starting_times.append(summ)\n",
    "starting_times=starting_times[:-1]    "
   ]
  },
  {
   "cell_type": "code",
   "execution_count": 116,
   "id": "58ba6d63-6785-4827-8edd-876626de6a71",
   "metadata": {},
   "outputs": [],
   "source": [
    "starting_times=np.array(starting_times)\n",
    "starting_times=np.expand_dims(starting_times, axis=0)\n",
    "np.savetxt(\"/Users/sabatb/Desktop/newdata/subj10/starting_times_subj10.1D\",starting_times,fmt='%.3f', delimiter='\\t')"
   ]
  },
  {
   "cell_type": "markdown",
   "id": "5fb39838-86c9-4520-bee9-5fe4bfed445b",
   "metadata": {},
   "source": [
    "# stimuli onset"
   ]
  },
  {
   "cell_type": "code",
   "execution_count": 117,
   "id": "b64dc148-bf41-41c8-afcd-4c5b7a6ed9c1",
   "metadata": {},
   "outputs": [
    {
     "name": "stderr",
     "output_type": "stream",
     "text": [
      "100%|██████████| 94/94 [00:00<00:00, 629.52it/s]\n"
     ]
    }
   ],
   "source": [
    "proj_path='/Users/sabatb/Documents/morerois/'\n",
    "stim_path=pjoin(proj_path,'stim')\n",
    "stim_files=sorted(glob(pjoin(stim_path,'*.csv')))\n",
    "\n",
    "df_cols = ['sub','ses','run','task','stim']\n",
    "df_data = {col:[] for col in df_cols}\n",
    "for fname in tqdm(stim_files[:]):\n",
    "    stim = pd.read_csv(fname) # time X rois\n",
    "\n",
    "    # timeseries = interp_nan(timeseries)\n",
    "    sub = re.compile('sub-SLC[0-9]*').findall(fname)[0]\n",
    "    ses = re.compile('ses-[0-9]*').findall(fname)[0]\n",
    "    run = re.compile('run-[0-9]*').findall(fname)[0]\n",
    "    task = re.compile('task-[a-z]*').findall(fname)[0]\n",
    "    # TODO: need to handle NaN values, zscore timeseries etc.\n",
    "    for col in df_cols:\n",
    "        df_data[col].append(eval(col))\n",
    "\n",
    "stim_df = pd.DataFrame(df_data)"
   ]
  },
  {
   "cell_type": "code",
   "execution_count": 118,
   "id": "a92dcdbf-9bfb-4007-94b9-bf65eda6bf99",
   "metadata": {},
   "outputs": [
    {
     "name": "stdout",
     "output_type": "stream",
     "text": [
      "Total bold led data runs : 74\n"
     ]
    }
   ],
   "source": [
    "stim_led_df = stim_df[stim_df['task']=='task-led'].reset_index()\n",
    "print(f'Total bold led data runs : {stim_led_df .shape[0]}')"
   ]
  },
  {
   "cell_type": "code",
   "execution_count": 119,
   "id": "547216f5-acbc-4d19-a3a1-c68306a22a95",
   "metadata": {},
   "outputs": [
    {
     "data": {
      "text/html": [
       "<div>\n",
       "<style scoped>\n",
       "    .dataframe tbody tr th:only-of-type {\n",
       "        vertical-align: middle;\n",
       "    }\n",
       "\n",
       "    .dataframe tbody tr th {\n",
       "        vertical-align: top;\n",
       "    }\n",
       "\n",
       "    .dataframe thead th {\n",
       "        text-align: right;\n",
       "    }\n",
       "</style>\n",
       "<table border=\"1\" class=\"dataframe\">\n",
       "  <thead>\n",
       "    <tr style=\"text-align: right;\">\n",
       "      <th></th>\n",
       "      <th>index</th>\n",
       "      <th>sub</th>\n",
       "      <th>ses</th>\n",
       "      <th>run</th>\n",
       "      <th>task</th>\n",
       "      <th>stim</th>\n",
       "    </tr>\n",
       "  </thead>\n",
       "  <tbody>\n",
       "    <tr>\n",
       "      <th>0</th>\n",
       "      <td>0</td>\n",
       "      <td>sub-SLC01</td>\n",
       "      <td>ses-1</td>\n",
       "      <td>run-2</td>\n",
       "      <td>task-led</td>\n",
       "      <td>Unnamed: 0  ledStim1Hz  ledStim10Hz\n",
       "0   ...</td>\n",
       "    </tr>\n",
       "    <tr>\n",
       "      <th>1</th>\n",
       "      <td>1</td>\n",
       "      <td>sub-SLC01</td>\n",
       "      <td>ses-1</td>\n",
       "      <td>run-6</td>\n",
       "      <td>task-led</td>\n",
       "      <td>Unnamed: 0  ledStim1Hz  ledStim10Hz\n",
       "0   ...</td>\n",
       "    </tr>\n",
       "    <tr>\n",
       "      <th>2</th>\n",
       "      <td>2</td>\n",
       "      <td>sub-SLC01</td>\n",
       "      <td>ses-2</td>\n",
       "      <td>run-2</td>\n",
       "      <td>task-led</td>\n",
       "      <td>Unnamed: 0  ledStim1Hz  ledStim10Hz\n",
       "0   ...</td>\n",
       "    </tr>\n",
       "    <tr>\n",
       "      <th>3</th>\n",
       "      <td>4</td>\n",
       "      <td>sub-SLC01</td>\n",
       "      <td>ses-2</td>\n",
       "      <td>run-4</td>\n",
       "      <td>task-led</td>\n",
       "      <td>Unnamed: 0  ledStim1Hz  ledStim10Hz\n",
       "0   ...</td>\n",
       "    </tr>\n",
       "    <tr>\n",
       "      <th>4</th>\n",
       "      <td>6</td>\n",
       "      <td>sub-SLC01</td>\n",
       "      <td>ses-2</td>\n",
       "      <td>run-6</td>\n",
       "      <td>task-led</td>\n",
       "      <td>Unnamed: 0  ledStim1Hz  ledStim10Hz\n",
       "0   ...</td>\n",
       "    </tr>\n",
       "  </tbody>\n",
       "</table>\n",
       "</div>"
      ],
      "text/plain": [
       "   index        sub    ses    run      task  \\\n",
       "0      0  sub-SLC01  ses-1  run-2  task-led   \n",
       "1      1  sub-SLC01  ses-1  run-6  task-led   \n",
       "2      2  sub-SLC01  ses-2  run-2  task-led   \n",
       "3      4  sub-SLC01  ses-2  run-4  task-led   \n",
       "4      6  sub-SLC01  ses-2  run-6  task-led   \n",
       "\n",
       "                                                stim  \n",
       "0        Unnamed: 0  ledStim1Hz  ledStim10Hz\n",
       "0   ...  \n",
       "1        Unnamed: 0  ledStim1Hz  ledStim10Hz\n",
       "0   ...  \n",
       "2        Unnamed: 0  ledStim1Hz  ledStim10Hz\n",
       "0   ...  \n",
       "3        Unnamed: 0  ledStim1Hz  ledStim10Hz\n",
       "0   ...  \n",
       "4        Unnamed: 0  ledStim1Hz  ledStim10Hz\n",
       "0   ...  "
      ]
     },
     "execution_count": 119,
     "metadata": {},
     "output_type": "execute_result"
    }
   ],
   "source": [
    "df_stim=stim_led_df\n",
    "df_stim.head()\n"
   ]
  },
  {
   "cell_type": "code",
   "execution_count": 166,
   "id": "8d6f1271-656c-4c1b-a45f-c6f81f8d736c",
   "metadata": {},
   "outputs": [],
   "source": [
    "m=0\n",
    "stim_starting=np.zeros((9,9))\n",
    "for i in range (len(df_stim['stim'])):\n",
    "    if df_stim['sub'][i]=='sub-SLC10':\n",
    "        df_stim['stim'][i].drop(columns = df_stim['stim'][i].columns[0], axis = 1, inplace= True)\n",
    "        df_stim['stim'][i].drop(columns = df_stim['stim'][i].columns[1], axis = 1, inplace= True)    \n",
    "        result = np.where(df_stim['stim'][i] == 1)[0]\n",
    "        res = []\n",
    "        res.append(result[0])\n",
    "        for idx in range(1, len(result)):\n",
    "            if result[idx] - result[idx-1] >6:\n",
    "                res.append(result[idx])\n",
    "        res = res[:-1]\n",
    "        stim_starting[m,:]=res\n",
    "        m=m+1\n",
    "\n"
   ]
  },
  {
   "cell_type": "code",
   "execution_count": 167,
   "id": "c4f31af3-7cf2-42b5-b56e-4f8cab6b7ed4",
   "metadata": {},
   "outputs": [
    {
     "name": "stdout",
     "output_type": "stream",
     "text": [
      "9\n"
     ]
    }
   ],
   "source": [
    "m1=0\n",
    "for i in range (len(df_stim['stim'])):\n",
    "    if df_stim['sub'][i]=='sub-SLC10':\n",
    "        m1=m1+1\n",
    "    \n",
    "print(m1)   "
   ]
  },
  {
   "cell_type": "code",
   "execution_count": 168,
   "id": "38ffed42-a725-443c-a46e-f57b105c4c37",
   "metadata": {},
   "outputs": [
    {
     "name": "stdout",
     "output_type": "stream",
     "text": [
      "[[ 10.  70. 130. 190. 250. 310. 370. 430. 490.]\n",
      " [ 10.  70. 130. 190. 250. 310. 370. 430. 490.]\n",
      " [ 10.  70. 130. 190. 250. 310. 370. 430. 490.]\n",
      " [ 11.  71. 130. 190. 250. 310. 370. 430. 490.]\n",
      " [ 10.  70. 130. 190. 250. 310. 370. 430. 490.]\n",
      " [ 10.  70. 130. 190. 250. 310. 370. 430. 490.]\n",
      " [ 10.  70. 130. 190. 250. 310. 370. 430. 490.]\n",
      " [ 10.  70. 130. 190. 250. 310. 370. 430. 490.]\n",
      " [ 10.  70. 130. 190. 250. 310. 370. 430. 490.]]\n"
     ]
    }
   ],
   "source": [
    "print(stim_starting)"
   ]
  },
  {
   "cell_type": "code",
   "execution_count": 169,
   "id": "71628e47-31ef-4254-8395-ffa29e949fbb",
   "metadata": {},
   "outputs": [],
   "source": [
    "np.savetxt(\"/Users/sabatb/Desktop/newdata/subj10/stim_times_subj10.1D\",stim_starting,fmt='%.3f', delimiter='\\t')"
   ]
  },
  {
   "cell_type": "code",
   "execution_count": 178,
   "id": "b5396304-934c-44cc-8100-0c10667e4319",
   "metadata": {},
   "outputs": [
    {
     "name": "stdout",
     "output_type": "stream",
     "text": [
      "(7, 9)\n",
      "(7,)\n",
      "(6288, 4200)\n"
     ]
    }
   ],
   "source": [
    "print((np.loadtxt(\"/Users/sabatb/Desktop/newdata/subj06/stim_times_subj06.1D\")).shape)\n",
    "print((np.loadtxt(\"/Users/sabatb/Desktop/newdata/subj06/starting_times_subj06.1D\")).shape)\n",
    "print((np.loadtxt(\"/Users/sabatb/Desktop/newdata/subj06/led_concatinated_subj06.1D\")).shape)"
   ]
  },
  {
   "cell_type": "markdown",
   "id": "389580a6-cd9d-4993-ba69-04c2ee5248ee",
   "metadata": {},
   "source": [
    "# Analysis Part after getting B parameters (CSPLIN)"
   ]
  },
  {
   "cell_type": "code",
   "execution_count": 1,
   "id": "8d11b56c-561d-4482-aff3-eb2082ce706d",
   "metadata": {},
   "outputs": [],
   "source": [
    "import numpy as np\n",
    "subj1=np.loadtxt('/Users/sabatb/Desktop/newdata/output01/subj01_bucket_REML.1D')\n",
    "subj2=np.loadtxt('/Users/sabatb/Desktop/newdata/output02/subj02_bucket_REML.1D')\n",
    "subj3=np.loadtxt('/Users/sabatb/Desktop/newdata/output03/subj03_bucket_REML.1D')\n",
    "subj4=np.loadtxt('/Users/sabatb/Desktop/newdata/output04/subj04_bucket_REML.1D')\n",
    "subj5=np.loadtxt('/Users/sabatb/Desktop/newdata/output05/subj05_bucket_REML.1D')\n",
    "subj6=np.loadtxt('/Users/sabatb/Desktop/newdata/output06/subj06_bucket_REML.1D')\n",
    "subj7=np.loadtxt('/Users/sabatb/Desktop/newdata/output07/subj07_bucket_REML.1D')\n",
    "subj8=np.loadtxt('/Users/sabatb/Desktop/newdata/output08/subj08_bucket_REML.1D')\n",
    "subj9=np.loadtxt('/Users/sabatb/Desktop/newdata/output09/subj09_bucket_REML.1D')\n",
    "subj10=np.loadtxt('/Users/sabatb/Desktop/newdata/output10/subj10_bucket_REML.1D')"
   ]
  },
  {
   "cell_type": "code",
   "execution_count": 2,
   "id": "fb567dda-70d0-4c4e-b74c-52f1cbc3cf82",
   "metadata": {},
   "outputs": [],
   "source": [
    "subj1_betta=subj1[:, 1:-1]\n",
    "subj2_betta=subj2[:, 1:-1]\n",
    "subj3_betta=subj3[:, 1:-1]\n",
    "subj4_betta=subj4[:, 1:-1]\n",
    "subj5_betta=subj5[:, 1:-1]\n",
    "subj6_betta=subj6[:, 1:-1]\n",
    "subj7_betta=subj7[:, 1:-1]\n",
    "subj8_betta=subj8[:, 1:-1]\n",
    "subj9_betta=subj9[:, 1:-1]\n",
    "subj10_betta=subj10[:, 1:-1]"
   ]
  },
  {
   "cell_type": "code",
   "execution_count": 181,
   "id": "13b6184b-4414-4072-8c39-01f579ff8e95",
   "metadata": {},
   "outputs": [
    {
     "name": "stdout",
     "output_type": "stream",
     "text": [
      "(6288, 26)\n"
     ]
    }
   ],
   "source": [
    "print(subj1_betta.shape)"
   ]
  },
  {
   "cell_type": "code",
   "execution_count": 3,
   "id": "4296fb05-8775-47b5-a83e-77a825a68b78",
   "metadata": {},
   "outputs": [],
   "source": [
    "avg=np.zeros_like(subj1_betta)\n",
    "for roi in range (subj1_betta.shape[0]):\n",
    "    for time in range (subj1_betta.shape[1]):\n",
    "        avg[roi,time]=(subj1_betta[roi,time]+subj2_betta[roi,time]+subj3_betta[roi,time]+subj4_betta[roi,time]+subj5_betta[roi,time]+subj6_betta[roi,time]+subj7_betta[roi,time]+subj8_betta[roi,time]+subj9_betta[roi,time]+subj10_betta[roi,time])/10\n",
    "        \n",
    "        \n",
    "    "
   ]
  },
  {
   "cell_type": "code",
   "execution_count": 216,
   "id": "049294c8-cc64-4998-b6d4-ee4196131114",
   "metadata": {},
   "outputs": [
    {
     "name": "stdout",
     "output_type": "stream",
     "text": [
      "(6288, 26)\n"
     ]
    }
   ],
   "source": [
    "print(avg.shape)"
   ]
  },
  {
   "cell_type": "code",
   "execution_count": null,
   "id": "726ce7c3-3548-44ca-8374-6d3f47f008d3",
   "metadata": {},
   "outputs": [],
   "source": [
    "VISp_left=[108,109,117,119,236,237,239,245,247,364,365,367,373,375]"
   ]
  },
  {
   "cell_type": "code",
   "execution_count": null,
   "id": "03adede2-240b-40fe-a069-7e1584c39fe4",
   "metadata": {},
   "outputs": [],
   "source": [
    "VISp_right=[492,493,501,503,620,621,623,629,631,748,749,751,757,759]"
   ]
  },
  {
   "cell_type": "code",
   "execution_count": 24,
   "id": "7cab5a10-534b-483c-baff-0c39be20597a",
   "metadata": {},
   "outputs": [],
   "source": [
    "std_left=(np.std(avg[VISp_left, :], axis=0))\n",
    "std_right=(np.std(avg[VISp_right, :], axis=0))"
   ]
  },
  {
   "cell_type": "code",
   "execution_count": 25,
   "id": "23c8dc36-5245-4b41-9b3e-225705ce833e",
   "metadata": {},
   "outputs": [],
   "source": [
    "VISp_averages_left = np.mean(avg[VISp_left, :], axis=0)"
   ]
  },
  {
   "cell_type": "code",
   "execution_count": 26,
   "id": "10ab09a6-5b15-4bfb-91e0-d8410064fe3e",
   "metadata": {},
   "outputs": [],
   "source": [
    "VISp_averages_right = np.mean(avg[VISp_right, :], axis=0)"
   ]
  },
  {
   "cell_type": "code",
   "execution_count": 27,
   "id": "64e240be-3e9a-4e23-8e3c-b4d991b63736",
   "metadata": {},
   "outputs": [],
   "source": [
    "# Calculate the standard deviation\n",
    "std_error_l = std_left/np.sqrt(len(VISp_averages_left))\n",
    "std_error_r = std_right/np.sqrt(len(VISp_averages_right))\n"
   ]
  },
  {
   "cell_type": "code",
   "execution_count": 28,
   "id": "c7eb30e3-38a1-44d3-a2a0-8b87920fde30",
   "metadata": {},
   "outputs": [
    {
     "data": {
      "image/png": "[encoded data removed]",
      "text/plain": [
       "<Figure size 800x600 with 2 Axes>"
      ]
     },
     "metadata": {},
     "output_type": "display_data"
    }
   ],
   "source": [
    "import numpy as np\n",
    "import matplotlib.pyplot as plt\n",
    "from matplotlib.patches import Rectangle\n",
    "t=np.arange(-10, 16)\n",
    "fig, axes = plt.subplots(nrows=1, ncols=2, sharex=True,sharey=True, figsize=(8, 6))\n",
    "\n",
    "# Plotting on the first subplot\n",
    "axes[0].plot(t, VISp_averages_left)\n",
    "axes[0].fill_between(t, VISp_averages_left - std_error_l, VISp_averages_left + std_error_l, color='gray', alpha=0.5)  \n",
    "rect = Rectangle((0, -4), 5, 14, linewidth=1, edgecolor='red', facecolor='none')\n",
    "axes[0].add_patch(rect)  # Add the rectangle to the plot\n",
    "axes[0].set_xlabel('time')\n",
    "axes[0].set_title('Left VISp')\n",
    "axes[0].set_ylabel('Amplitude')\n",
    "# Plotting on the second subplot\n",
    "axes[1].plot(t, VISp_averages_right)\n",
    "axes[1].fill_between(t, VISp_averages_right - std_error_r, VISp_averages_right + std_error_r, color='gray', alpha=0.5) \n",
    "rect = Rectangle((0, -4), 5, 14, linewidth=1, edgecolor='red', facecolor='none')\n",
    "axes[1].add_patch(rect)  # Add the rectangle to the plot\n",
    "axes[1].set_xlabel('time')\n",
    "axes[1].set_title('Right VISp')\n",
    "axes[1].set_ylabel('Amplitude')\n",
    "\n",
    "# Add a common x-axis label\n",
    "#fig.text(-10, 15, 'X-axis', ha='center')\n",
    "\n",
    "# Adjust layout and spacing\n",
    "plt.tight_layout()\n",
    "plt.savefig('VISp.png')\n",
    "# Show the plots\n",
    "plt.show()\n"
   ]
  },
  {
   "cell_type": "markdown",
   "id": "983f37b7-65fa-42c1-b5e8-a8202e13bc81",
   "metadata": {},
   "source": [
    "# Preparing for Timeseries Visulaization "
   ]
  },
  {
   "cell_type": "code",
   "execution_count": 11,
   "id": "a1193ef5-a947-4f0a-b049-982231c699f7",
   "metadata": {},
   "outputs": [],
   "source": [
    "from nilearn.image import load_img, new_img_like\n",
    "import numpy as np"
   ]
  },
  {
   "cell_type": "code",
   "execution_count": 12,
   "id": "9c0dec73-303b-401d-a60a-8339abcb33e0",
   "metadata": {},
   "outputs": [],
   "source": [
    "atlas= load_img('/Users/sabatb/Documents/morerois/extras/Symmetric_N162_space-indiv3d_brain.nii.gz')"
   ]
  },
  {
   "cell_type": "code",
   "execution_count": 13,
   "id": "9c35d963-e10d-4c96-b928-0847794c7c3a",
   "metadata": {},
   "outputs": [
    {
     "name": "stdout",
     "output_type": "stream",
     "text": [
      "Number of ROIs in Atlas : 6288\n",
      "Shape of Atlas : (60, 46, 81)\n"
     ]
    }
   ],
   "source": [
    "dataobj = np.array(atlas.dataobj)\n",
    "print('Number of ROIs in Atlas :',np.max(dataobj))\n",
    "print('Shape of Atlas :',dataobj.shape)\n",
    "new_data=np.zeros_like(dataobj)"
   ]
  },
  {
   "cell_type": "code",
   "execution_count": 14,
   "id": "e24bb242-0039-4af9-bb9e-28e85d1d4862",
   "metadata": {},
   "outputs": [
    {
     "name": "stdout",
     "output_type": "stream",
     "text": [
      "total voxels = 223560\n",
      "voxels in the brain = 38193\n"
     ]
    }
   ],
   "source": [
    "print(f\"total voxels = {dataobj.shape[0]*dataobj.shape[1]*dataobj.shape[2]}\")\n",
    "print(f\"voxels in the brain = {(dataobj>0).sum()}\")"
   ]
  },
  {
   "cell_type": "code",
   "execution_count": 188,
   "id": "2704d0da-7423-41f5-a6e5-45796c1cbe17",
   "metadata": {},
   "outputs": [
    {
     "name": "stdout",
     "output_type": "stream",
     "text": [
      "(60, 46, 81, 26)\n"
     ]
    }
   ],
   "source": [
    "\n",
    "t=avg.shape[1]\n",
    "number_of_ROIs=avg.shape[0]\n",
    "all_times=[]\n",
    "for time in range (t):\n",
    "    new_dataobj=np.zeros_like(dataobj,dtype='float')\n",
    "    for idx_roi in range(number_of_ROIs):\n",
    "        #print(f\"number of voxels in ROI{idx_roi+1} = {(dataobj==(idx_roi+1)).sum()}\")\n",
    "        roi_indices = dataobj==(idx_roi+1)\n",
    "        new_dataobj[roi_indices] = avg[idx_roi,time]\n",
    "    all_times.append(new_dataobj)\n",
    "\n",
    "all_times = np.stack(all_times,axis=-1)\n",
    "print(all_times.shape)"
   ]
  },
  {
   "cell_type": "code",
   "execution_count": 189,
   "id": "2ee777c6-f541-41f3-bc70-872908732c3b",
   "metadata": {},
   "outputs": [],
   "source": [
    "timeseries_nii = new_img_like(ref_niimg=atlas, data=all_times, copy_header=True)\n",
    "timeseries_nii.to_filename('/Users/sabatb/Desktop/newdata/timeseries_all_LED_unassumed26seconds.nii.gz')\n"
   ]
  },
  {
   "cell_type": "markdown",
   "id": "ebee1816-f33b-482e-a31b-c95eb2eba099",
   "metadata": {},
   "source": [
    "# Splitting data into during stimulation and during no stimulation"
   ]
  },
  {
   "cell_type": "code",
   "execution_count": 6,
   "id": "d2f60396-2001-4d53-ba39-a8091d83dcfa",
   "metadata": {},
   "outputs": [],
   "source": [
    "#avergae\n",
    "def avg_data(data):\n",
    "    nostim=np.nanmean(data[:, :10], axis=1)\n",
    "    stim=np.nanmean(data[:, 10:15], axis=1)\n",
    "    return nostim,stim"
   ]
  },
  {
   "cell_type": "code",
   "execution_count": 7,
   "id": "c5986102-f25e-4477-888f-f7982495171a",
   "metadata": {},
   "outputs": [],
   "source": [
    "nostim_subj01,stim_subj01 =avg_data(subj1_betta)\n",
    "nostim_subj02,stim_subj02 =avg_data(subj2_betta)\n",
    "nostim_subj03,stim_subj03 =avg_data(subj3_betta)\n",
    "nostim_subj04,stim_subj04 =avg_data(subj4_betta)\n",
    "nostim_subj05,stim_subj05 =avg_data(subj5_betta)\n",
    "nostim_subj06,stim_subj06 =avg_data(subj6_betta)\n",
    "nostim_subj07,stim_subj07 =avg_data(subj7_betta)\n",
    "nostim_subj08,stim_subj08 =avg_data(subj8_betta)\n",
    "nostim_subj09,stim_subj09 =avg_data(subj9_betta)\n",
    "nostim_subj10,stim_subj10 =avg_data(subj10_betta)\n"
   ]
  },
  {
   "cell_type": "code",
   "execution_count": 9,
   "id": "7f38de5d-19a4-4a63-99fb-b58dd6df2489",
   "metadata": {},
   "outputs": [
    {
     "name": "stdout",
     "output_type": "stream",
     "text": [
      "36.45154000000001\n"
     ]
    }
   ],
   "source": [
    "print(np.max(stim_subj02))"
   ]
  },
  {
   "cell_type": "code",
   "execution_count": 34,
   "id": "e3dc7501-a57f-4bc3-a0a8-e5fbfb05513e",
   "metadata": {},
   "outputs": [],
   "source": [
    "\n",
    "def convert (avg):\n",
    "    atlas= load_img('/Users/sabatb/Documents/morerois/extras/Symmetric_N162_space-indiv3d_brain.nii.gz')\n",
    "    dataobj = np.array(atlas.dataobj)\n",
    "    number_of_ROIs=avg.shape[0]\n",
    "    new_dataobj=np.zeros_like(dataobj,dtype='float')\n",
    "    for idx_roi in range(number_of_ROIs):\n",
    "        #print(f\"number of voxels in ROI{idx_roi+1} = {(dataobj==(idx_roi+1)).sum()}\")\n",
    "        roi_indices = dataobj==(idx_roi+1)\n",
    "        new_dataobj[roi_indices] = avg[idx_roi]\n",
    "    return new_dataobj\n",
    "new_dataobj=convert(stim_subj10)\n",
    "timeseries_nii = new_img_like(ref_niimg=atlas, data=new_dataobj, copy_header=True)\n",
    "timeseries_nii.to_filename('/Users/sabatb/Desktop/newdata/average/stim_subj10.nii.gz')"
   ]
  },
  {
   "cell_type": "markdown",
   "id": "e79be295-325a-4fdf-a9f2-7ad0e61cf8d0",
   "metadata": {},
   "source": [
    "# paired t test"
   ]
  },
  {
   "cell_type": "code",
   "execution_count": 33,
   "id": "28eae3b5-513a-47a3-9f5e-0cb69a91661a",
   "metadata": {},
   "outputs": [],
   "source": [
    "during_stim=np.empty((2782,10)); during_stim[:]=np.nan\n",
    "during_nostim=np.empty((2782,10)); during_nostim[:]=np.nan\n",
    "for i in range (2782):\n",
    "    m=0\n",
    "    during_stim[i,m]=stim_subj01[i]\n",
    "    during_nostim[i,m]=nostim_subj01[i]\n",
    "    m=m+1\n",
    "    during_stim[i,m]=stim_subj02[i]\n",
    "    during_nostim[i,m]=nostim_subj02[i]\n",
    "    m=m+1\n",
    "    during_stim[i,m]=stim_subj03[i]\n",
    "    during_nostim[i,m]=nostim_subj03[i]\n",
    "    m=m+1\n",
    "    during_stim[i,m]=stim_subj04[i]\n",
    "    during_nostim[i,m]=nostim_subj04[i]\n",
    "    m=m+1\n",
    "    during_stim[i,m]=stim_subj05[i]\n",
    "    during_nostim[i,m]=nostim_subj05[i]\n",
    "    m=m+1\n",
    "    during_stim[i,m]=stim_subj06[i]\n",
    "    during_nostim[i,m]=nostim_subj06[i]\n",
    "    m=m+1\n",
    "    during_stim[i,m]=stim_subj07[i]\n",
    "    during_nostim[i,m]=nostim_subj07[i]\n",
    "    m=m+1\n",
    "    during_stim[i,m]=stim_subj08[i]\n",
    "    during_nostim[i,m]=nostim_subj08[i]\n",
    "    m=m+1\n",
    "    during_stim[i,m]=stim_subj09[i]\n",
    "    during_nostim[i,m]=nostim_subj09[i]\n",
    "    m=m+1\n",
    "    during_stim[i,m]=stim_subj10[i]\n",
    "    during_nostim[i,m]=nostim_subj10[i]\n",
    "    m=m+1"
   ]
  },
  {
   "cell_type": "code",
   "execution_count": 94,
   "id": "cecc18aa-dd12-4be8-83b0-de5a0b4dfda0",
   "metadata": {},
   "outputs": [],
   "source": [
    "from scipy import stats\n",
    "pvalue=np.empty((2782)); pvalue[:]=np.nan\n",
    "statistic=np.empty((2782)); statistic[:]=np.nan\n",
    "for i in range (2782):\n",
    "    statistic[i]=scipy.stats.ttest_rel(during_stim[i], during_nostim[i])[0]\n",
    "    pvalue[i]=scipy.stats.ttest_rel(during_stim[i], during_nostim[i])[1]\n",
    "np.save('statistic_between_10ta', statistic)\n",
    "np.save('pvalue_between_10ta', pvalue)"
   ]
  },
  {
   "cell_type": "code",
   "execution_count": 95,
   "id": "742a2ba3-e69b-4482-949b-ec8044393336",
   "metadata": {},
   "outputs": [
    {
     "name": "stdout",
     "output_type": "stream",
     "text": [
      "5.978408989791732\n"
     ]
    }
   ],
   "source": [
    "print(max( statistic))"
   ]
  },
  {
   "cell_type": "code",
   "execution_count": 100,
   "id": "78aa6242-3df4-4f78-8d5e-cda12b8fd95f",
   "metadata": {},
   "outputs": [],
   "source": [
    "statistic_pvalue=statistic\n",
    "p=np.where(pvalue<=0.0005)[0]\n",
    "for i in range(2782):\n",
    "    if i not in p:\n",
    "        statistic_pvalue[i]=np.nan"
   ]
  },
  {
   "cell_type": "code",
   "execution_count": 101,
   "id": "512285e4-f2a4-4059-b2e5-b784936a672a",
   "metadata": {},
   "outputs": [
    {
     "name": "stdout",
     "output_type": "stream",
     "text": [
      "5.978408989791732\n"
     ]
    }
   ],
   "source": [
    "print(np.nanmax(statistic_pvalue))"
   ]
  },
  {
   "cell_type": "code",
   "execution_count": 102,
   "id": "4e1f5dfd-0c6f-442e-9b31-bf2a0fdd7fa0",
   "metadata": {},
   "outputs": [],
   "source": [
    "from nilearn.image import load_img, new_img_like\n",
    "import numpy as np"
   ]
  },
  {
   "cell_type": "code",
   "execution_count": 103,
   "id": "0329f85f-4b45-46d1-a238-02aa5857a25c",
   "metadata": {},
   "outputs": [],
   "source": [
    "atlas= load_img('/Users/sabatb/Downloads/brain-N162.nii')"
   ]
  },
  {
   "cell_type": "code",
   "execution_count": 104,
   "id": "6cf4712f-8061-4c15-a384-573022d0f72a",
   "metadata": {},
   "outputs": [
    {
     "name": "stdout",
     "output_type": "stream",
     "text": [
      "Number of ROIs in Atlas : 2782\n",
      "Shape of Atlas : (60, 46, 81)\n"
     ]
    }
   ],
   "source": [
    "dataobj = np.array(atlas.dataobj)\n",
    "print('Number of ROIs in Atlas :',np.max(dataobj))\n",
    "print('Shape of Atlas :',dataobj.shape)\n",
    "new_data=np.zeros_like(dataobj)"
   ]
  },
  {
   "cell_type": "code",
   "execution_count": 105,
   "id": "ab472465-14a7-45a8-a37f-1b24bbdf8591",
   "metadata": {},
   "outputs": [
    {
     "name": "stdout",
     "output_type": "stream",
     "text": [
      "total voxels = 223560\n",
      "voxels in the brain = 42877\n"
     ]
    }
   ],
   "source": [
    "print(f\"total voxels = {dataobj.shape[0]*dataobj.shape[1]*dataobj.shape[2]}\")\n",
    "print(f\"voxels in the brain = {(dataobj>0).sum()}\")"
   ]
  },
  {
   "cell_type": "code",
   "execution_count": 106,
   "id": "8abf6c07-f29d-4736-8b79-4726916a6c7b",
   "metadata": {},
   "outputs": [
    {
     "name": "stdout",
     "output_type": "stream",
     "text": [
      "(2782,)\n"
     ]
    }
   ],
   "source": [
    "print(statistic.shape)"
   ]
  },
  {
   "cell_type": "code",
   "execution_count": 107,
   "id": "26c682a0-01ce-4634-a98a-1d624a6d5a99",
   "metadata": {},
   "outputs": [
    {
     "name": "stdout",
     "output_type": "stream",
     "text": [
      "(60, 46, 81)\n"
     ]
    }
   ],
   "source": [
    "number_of_ROIs=2782\n",
    "new_dataobj=np.zeros_like(dataobj,dtype='float')\n",
    "for idx_roi in range(number_of_ROIs):\n",
    "        #print(f\"number of voxels in ROI{idx_roi+1} = {(dataobj==(idx_roi+1)).sum()}\")\n",
    "    roi_indices = dataobj==(idx_roi+1)\n",
    "    new_dataobj[roi_indices] = statistic_pvalue[idx_roi]\n",
    "\n",
    "#all_times = np.stack(all_times,axis=-1)\n",
    "print(new_dataobj.shape)"
   ]
  },
  {
   "cell_type": "code",
   "execution_count": 108,
   "id": "68251609-eb5b-4f61-bf93-c55f50623e33",
   "metadata": {},
   "outputs": [],
   "source": [
    "statistics_nii = new_img_like(ref_niimg=atlas, data=new_dataobj, copy_header=True)\n",
    "statistics_nii.to_filename('/Users/sabatb/Desktop/newdata/newstatistics.nii.gz')"
   ]
  },
  {
   "cell_type": "code",
   "execution_count": null,
   "id": "64ca6eb8-08c3-45e3-9c82-00b3002f0831",
   "metadata": {},
   "outputs": [],
   "source": []
  }
 ],
 "metadata": {
  "kernelspec": {
   "display_name": "Python 3 (ipykernel)",
   "language": "python",
   "name": "python3"
  },
  "language_info": {
   "codemirror_mode": {
    "name": "ipython",
    "version": 3
   },
   "file_extension": ".py",
   "mimetype": "text/x-python",
   "name": "python",
   "nbconvert_exporter": "python",
   "pygments_lexer": "ipython3",
   "version": "3.9.13"
  }
 },
 "nbformat": 4,
 "nbformat_minor": 5
}
